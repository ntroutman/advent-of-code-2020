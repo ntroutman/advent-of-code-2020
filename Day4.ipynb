{
 "cells": [
  {
   "cell_type": "code",
   "execution_count": 1,
   "metadata": {},
   "outputs": [],
   "source": [
    "%load_ext autoreload\n",
    "%autoreload 2\n",
    "import santas_helpers\n",
    "import numpy as np"
   ]
  },
  {
   "cell_type": "code",
   "execution_count": 5,
   "metadata": {},
   "outputs": [
    {
     "data": {
      "text/plain": [
       "['ecl:gry pid:860033327 eyr:2020 hcl:#fffffd',\n",
       " 'byr:1937 iyr:2017 cid:147 hgt:183cm',\n",
       " '',\n",
       " 'iyr:2013 ecl:amb cid:350 eyr:2023 pid:028048884',\n",
       " 'hcl:#cfa07d byr:1929',\n",
       " '',\n",
       " 'hcl:#ae17e1 iyr:2013',\n",
       " 'eyr:2024',\n",
       " 'ecl:brn pid:760753108 byr:1931',\n",
       " 'hgt:179cm',\n",
       " '',\n",
       " 'hcl:#cfa07d eyr:2025 pid:166559648',\n",
       " 'iyr:2011 ecl:brn hgt:59in']"
      ]
     },
     "execution_count": 5,
     "metadata": {},
     "output_type": "execute_result"
    }
   ],
   "source": [
    "example_1, example_2, full = santas_helpers.get_input(day=4)\n",
    "example_1"
   ]
  },
  {
   "cell_type": "code",
   "execution_count": 22,
   "metadata": {},
   "outputs": [
    {
     "data": {
      "text/plain": [
       "[{'ecl': 'gry',\n",
       "  'pid': '860033327',\n",
       "  'eyr': '2020',\n",
       "  'hcl': '#fffffd',\n",
       "  'byr': '1937',\n",
       "  'iyr': '2017',\n",
       "  'cid': '147',\n",
       "  'hgt': '183cm'},\n",
       " {'iyr': '2013',\n",
       "  'ecl': 'amb',\n",
       "  'cid': '350',\n",
       "  'eyr': '2023',\n",
       "  'pid': '028048884',\n",
       "  'hcl': '#cfa07d',\n",
       "  'byr': '1929'},\n",
       " {'hcl': '#ae17e1',\n",
       "  'iyr': '2013',\n",
       "  'eyr': '2024',\n",
       "  'ecl': 'brn',\n",
       "  'pid': '760753108',\n",
       "  'byr': '1931',\n",
       "  'hgt': '179cm'},\n",
       " {'hcl': '#cfa07d',\n",
       "  'eyr': '2025',\n",
       "  'pid': '166559648',\n",
       "  'iyr': '2011',\n",
       "  'ecl': 'brn',\n",
       "  'hgt': '59in'}]"
      ]
     },
     "execution_count": 22,
     "metadata": {},
     "output_type": "execute_result"
    }
   ],
   "source": [
    "def find_scans(raw_lines):\n",
    "    records = [{}]\n",
    "    for line in raw_lines:\n",
    "        if line == '':\n",
    "            records.append({})\n",
    "            continue\n",
    "        records[-1].update({k:v for k,v in [k_v.split(':') for k_v in line.split(' ')]})\n",
    "    return records\n",
    "find_scans(example_1)\n"
   ]
  },
  {
   "cell_type": "code",
   "execution_count": 30,
   "metadata": {},
   "outputs": [
    {
     "data": {
      "text/plain": [
       "(2, 2)"
      ]
     },
     "execution_count": 30,
     "metadata": {},
     "output_type": "execute_result"
    }
   ],
   "source": [
    "#     byr (Birth Year)\n",
    "#     iyr (Issue Year)\n",
    "#     eyr (Expiration Year)\n",
    "#     hgt (Height)\n",
    "#     hcl (Hair Color)\n",
    "#     ecl (Eye Color)\n",
    "#     pid (Passport ID)\n",
    "#     cid (Country ID)\n",
    "required_fields = ['byr', 'iyr','eyr', 'hgt', 'hcl', 'ecl', 'pid']\n",
    "\n",
    "def verify_passwords(raw_lines):\n",
    "    records = find_scans(raw_lines)\n",
    "    valid, invalid = 0, 0\n",
    "    for record in records:\n",
    "        for field in required_fields:\n",
    "            if field not in record:\n",
    "                invalid += 1\n",
    "                break\n",
    "        else:\n",
    "            valid += 1\n",
    "    return (valid, invalid)\n",
    "verify_passwords(example_1)   \n"
   ]
  },
  {
   "cell_type": "code",
   "execution_count": 20,
   "metadata": {},
   "outputs": [
    {
     "data": {
      "text/plain": [
       "(216, 74)"
      ]
     },
     "execution_count": 20,
     "metadata": {},
     "output_type": "execute_result"
    }
   ],
   "source": [
    "verify_passwords(full)   "
   ]
  },
  {
   "cell_type": "code",
   "execution_count": 41,
   "metadata": {},
   "outputs": [
    {
     "name": "stdout",
     "output_type": "stream",
     "text": [
      "{'ecl': 'gry', 'pid': '860033327', 'eyr': '2020', 'hcl': '#fffffd', 'byr': '1937', 'iyr': '2017', 'cid': '147', 'hgt': '183cm'}\n",
      "{'iyr': '2013', 'ecl': 'amb', 'cid': '350', 'eyr': '2023', 'pid': '028048884', 'hcl': '#cfa07d', 'byr': '1929'}\n",
      "missing: hgt\n",
      "{'hcl': '#ae17e1', 'iyr': '2013', 'eyr': '2024', 'ecl': 'brn', 'pid': '760753108', 'byr': '1931', 'hgt': '179cm'}\n",
      "{'hcl': '#cfa07d', 'eyr': '2025', 'pid': '166559648', 'iyr': '2011', 'ecl': 'brn', 'hgt': '59in'}\n",
      "missing: byr\n"
     ]
    },
    {
     "data": {
      "text/plain": [
       "2"
      ]
     },
     "execution_count": 41,
     "metadata": {},
     "output_type": "execute_result"
    }
   ],
   "source": [
    "def byr(val):\n",
    "    val = int(val)\n",
    "    return val >= 1920 and val <= 2002\n",
    "\n",
    "def iyr(val):\n",
    "    val = int(val)\n",
    "    return val >= 2010 and val <= 2020\n",
    "\n",
    "def eyr(val):\n",
    "    val = int(val)\n",
    "    return val >= 2020 and val <= 2030\n",
    "\n",
    "def hgt(val):\n",
    "    val, metric = int(val[:-2]), val[-2:]\n",
    "    if metric == 'cm':\n",
    "        return val >= 150 and val <= 193\n",
    "    elif metric == 'in':\n",
    "        return val >= 59 and val <= 76\n",
    "    return False\n",
    "\n",
    "def hcl(val):\n",
    "    if val[0] != '#':\n",
    "        return False\n",
    "    \n",
    "    try:\n",
    "        int(val[1:], 16)\n",
    "        return True\n",
    "    except:\n",
    "        return False\n",
    "\n",
    "def ecl(val):\n",
    "    return val in \"amb blu brn gry grn hzl oth\".split(' ')\n",
    "\n",
    "def pid(val):\n",
    "    try:\n",
    "        return len(val) == 9 and int(val)\n",
    "    except:\n",
    "        return False\n",
    "\n",
    "required_fields = {'byr':byr, 'iyr':iyr, 'eyr': eyr, 'hgt':hgt, 'hcl':hcl, 'ecl':ecl, 'pid':pid}\n",
    "def verify_passwords(raw_lines, debug=False):\n",
    "    records = find_scans(raw_lines)\n",
    "    valid = 0\n",
    "    for record in records:\n",
    "        if debug:\n",
    "            print(record)\n",
    "        for field, validator in required_fields.items():\n",
    "            if field not in record:\n",
    "                if debug:\n",
    "                    print('missing:', field)\n",
    "                break\n",
    "            if not validator(record[field]):\n",
    "                if debug:\n",
    "                    print('invalid:', field, record[field])\n",
    "                break\n",
    "                \n",
    "        else:\n",
    "            valid += 1\n",
    "    return valid\n",
    "verify_passwords(example_1, True)   \n"
   ]
  },
  {
   "cell_type": "code",
   "execution_count": 42,
   "metadata": {},
   "outputs": [
    {
     "data": {
      "text/plain": [
       "150"
      ]
     },
     "execution_count": 42,
     "metadata": {},
     "output_type": "execute_result"
    }
   ],
   "source": [
    "verify_passwords(full, False)"
   ]
  },
  {
   "cell_type": "code",
   "execution_count": null,
   "metadata": {},
   "outputs": [],
   "source": []
  }
 ],
 "metadata": {
  "kernelspec": {
   "display_name": "Python 3",
   "language": "python",
   "name": "python3"
  },
  "language_info": {
   "codemirror_mode": {
    "name": "ipython",
    "version": 3
   },
   "file_extension": ".py",
   "mimetype": "text/x-python",
   "name": "python",
   "nbconvert_exporter": "python",
   "pygments_lexer": "ipython3",
   "version": "3.7.1"
  }
 },
 "nbformat": 4,
 "nbformat_minor": 4
}
