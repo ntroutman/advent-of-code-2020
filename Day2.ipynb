{
 "cells": [
  {
   "cell_type": "code",
   "execution_count": 10,
   "metadata": {},
   "outputs": [
    {
     "name": "stdout",
     "output_type": "stream",
     "text": [
      "The autoreload extension is already loaded. To reload it, use:\n",
      "  %reload_ext autoreload\n"
     ]
    }
   ],
   "source": [
    "%load_ext autoreload\n",
    "%autoreload 2\n",
    "import santas_helpers"
   ]
  },
  {
   "cell_type": "code",
   "execution_count": 11,
   "metadata": {},
   "outputs": [
    {
     "data": {
      "text/plain": [
       "['1-3 a: abcde', '1-3 b: cdefg', '2-9 c: ccccccccc']"
      ]
     },
     "execution_count": 11,
     "metadata": {},
     "output_type": "execute_result"
    }
   ],
   "source": [
    "example_1, example_2, full = santas_helpers.get_input(day=2)\n",
    "example_1"
   ]
  },
  {
   "cell_type": "code",
   "execution_count": 7,
   "metadata": {},
   "outputs": [
    {
     "data": {
      "text/plain": [
       "[5, 11] -> t"
      ]
     },
     "execution_count": 7,
     "metadata": {},
     "output_type": "execute_result"
    }
   ],
   "source": [
    "class Rule:\n",
    "    def __init__(self, rule):\n",
    "        char_range, _, self.char = rule.partition(' ')\n",
    "        self.min, self.max = [int(v) for v in char_range.split('-')]\n",
    "        \n",
    "    def is_valid(self, password):\n",
    "        return sum(char == self.char for char in password) in range(self.min, self.max + 1)\n",
    "        \n",
    "    def __repr__(self):\n",
    "        return f\"[{self.min}, {self.max}] -> {self.char}\"\n",
    "Rule(\"5-11 t\")"
   ]
  },
  {
   "cell_type": "code",
   "execution_count": 23,
   "metadata": {},
   "outputs": [
    {
     "name": "stdout",
     "output_type": "stream",
     "text": [
      "Invalid: [1, 3] -> b cdefg\n",
      "Num Valid: 2\n"
     ]
    }
   ],
   "source": [
    "def process_password_file(lines, rule_class, debug=False):\n",
    "    num_valid = 0\n",
    "    for line in lines:\n",
    "        rule, _, password = map(str.strip, line.partition(':'))\n",
    "        rule = rule_class(rule)\n",
    "        if rule.is_valid(password):\n",
    "            num_valid += 1\n",
    "        else:\n",
    "            if debug:\n",
    "                print('Invalid:', rule, password)\n",
    "    print('Num Valid:', num_valid)\n",
    "process_password_file(example_1, Rule, debug=True)"
   ]
  },
  {
   "cell_type": "code",
   "execution_count": 26,
   "metadata": {},
   "outputs": [
    {
     "name": "stdout",
     "output_type": "stream",
     "text": [
      "Num Valid: 378\n"
     ]
    }
   ],
   "source": [
    "process_password_file(full, Rule)"
   ]
  },
  {
   "cell_type": "code",
   "execution_count": 21,
   "metadata": {},
   "outputs": [
    {
     "name": "stdout",
     "output_type": "stream",
     "text": [
      "[1 ^ 3] = a\n"
     ]
    }
   ],
   "source": [
    "class OfficialRule:\n",
    "    def __init__(self, rule):\n",
    "        positions, _, self.char = rule.partition(' ')\n",
    "        self.pos_1, self.pos_2 = [int(v) - 1 for v in positions.split('-')]\n",
    "        \n",
    "    def is_valid(self, password):\n",
    "        return (len(password) > self.pos_1) and (len(password) > self.pos_2) and (password[self.pos_1] == self.char) ^ (password[self.pos_2] == self.char)\n",
    "        \n",
    "    def __repr__(self):\n",
    "        return f\"[{self.pos_1 + 1} ^ {self.pos_2 + 1}] = {self.char}\"\n",
    "print(OfficialRule('1-3 a'))"
   ]
  },
  {
   "cell_type": "code",
   "execution_count": 24,
   "metadata": {},
   "outputs": [
    {
     "name": "stdout",
     "output_type": "stream",
     "text": [
      "Invalid: [1 ^ 3] = b cdefg\n",
      "Invalid: [2 ^ 9] = c ccccccccc\n",
      "Num Valid: 1\n"
     ]
    }
   ],
   "source": [
    "process_password_file(example_1, OfficialRule, debug=True)"
   ]
  },
  {
   "cell_type": "code",
   "execution_count": 27,
   "metadata": {},
   "outputs": [
    {
     "name": "stdout",
     "output_type": "stream",
     "text": [
      "Num Valid: 280\n"
     ]
    }
   ],
   "source": [
    "process_password_file(full, OfficialRule)"
   ]
  },
  {
   "cell_type": "code",
   "execution_count": null,
   "metadata": {},
   "outputs": [],
   "source": []
  }
 ],
 "metadata": {
  "kernelspec": {
   "display_name": "Python 3",
   "language": "python",
   "name": "python3"
  },
  "language_info": {
   "codemirror_mode": {
    "name": "ipython",
    "version": 3
   },
   "file_extension": ".py",
   "mimetype": "text/x-python",
   "name": "python",
   "nbconvert_exporter": "python",
   "pygments_lexer": "ipython3",
   "version": "3.7.1"
  }
 },
 "nbformat": 4,
 "nbformat_minor": 4
}
