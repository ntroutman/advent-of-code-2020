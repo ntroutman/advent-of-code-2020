{
 "cells": [
  {
   "cell_type": "code",
   "execution_count": 1,
   "metadata": {},
   "outputs": [],
   "source": [
    "%load_ext autoreload\n",
    "%autoreload 2\n",
    "import santas_helpers"
   ]
  },
  {
   "cell_type": "code",
   "execution_count": 2,
   "metadata": {},
   "outputs": [],
   "source": [
    "#!conda install --yes -c conda-forge python-igraph\n",
    "import igraph"
   ]
  },
  {
   "cell_type": "code",
   "execution_count": 23,
   "metadata": {},
   "outputs": [
    {
     "data": {
      "text/plain": [
       "['light red bags contain 1 bright white bag, 2 muted yellow bags.',\n",
       " 'dark orange bags contain 3 bright white bags, 4 muted yellow bags.',\n",
       " 'bright white bags contain 1 shiny gold bag.',\n",
       " 'muted yellow bags contain 2 shiny gold bags, 9 faded blue bags.',\n",
       " 'shiny gold bags contain 1 dark olive bag, 2 vibrant plum bags.',\n",
       " 'dark olive bags contain 3 faded blue bags, 4 dotted black bags.',\n",
       " 'vibrant plum bags contain 5 faded blue bags, 6 dotted black bags.',\n",
       " 'faded blue bags contain no other bags.',\n",
       " 'dotted black bags contain no other bags.']"
      ]
     },
     "execution_count": 23,
     "metadata": {},
     "output_type": "execute_result"
    }
   ],
   "source": [
    "example_1, example_2, full = santas_helpers.get_input(day=7)\n",
    "example_1"
   ]
  },
  {
   "cell_type": "code",
   "execution_count": 30,
   "metadata": {},
   "outputs": [
    {
     "name": "stdout",
     "output_type": "stream",
     "text": [
      "('light red', [(1, 'bright white'), (2, 'muted yellow')])\n"
     ]
    }
   ],
   "source": [
    "import re\n",
    "def parse_rule(rule):\n",
    "    bag, _, contents = map(str.strip, rule.partition('contain'))\n",
    "    bag = bag.replace('bags', '').strip()\n",
    "    rule_matcher = re.compile('(\\d+) ([a-z ]+) bag')\n",
    "    if contents == 'no other bags.':\n",
    "        return (bag, [(0, 'no other bags')])\n",
    "    else:\n",
    "        rules = [rule_matcher.match(desc.strip()).groups()[0:2] for desc in contents.split(',')]\n",
    "        rules = [(int(rule[0]), rule[1]) for rule in rules]\n",
    "        return (bag, rules)\n",
    "print(parse_rule(example_1[0]))"
   ]
  },
  {
   "cell_type": "code",
   "execution_count": 32,
   "metadata": {},
   "outputs": [],
   "source": [
    "def build_graph(raw_rule_set):\n",
    "    bag_graph = igraph.Graph(directed=True)\n",
    "    rules = [parse_rule(raw_rule) for raw_rule in raw_rule_set]\n",
    "\n",
    "    for bag, _ in rules:\n",
    "        bag_graph.add_vertex(name=bag)\n",
    "    bag_graph.add_vertex(name='no other bags')\n",
    "        \n",
    "    for bag, contents in rules:\n",
    "        for count, color in contents:\n",
    "            edge = bag_graph.add_edge(bag, color)\n",
    "            edge['count'] = count\n",
    "            \n",
    "    return bag_graph\n",
    "graph = build_graph(example_1)"
   ]
  },
  {
   "cell_type": "code",
   "execution_count": 33,
   "metadata": {},
   "outputs": [
    {
     "data": {
      "text/plain": [
       "{'bright white', 'dark orange', 'light red', 'muted yellow'}"
      ]
     },
     "execution_count": 33,
     "metadata": {},
     "output_type": "execute_result"
    }
   ],
   "source": [
    "def find_outer_bags(raw_rule_set, target_color):\n",
    "    graph = build_graph(raw_rule_set)\n",
    "    # use the inbound into shiny-gold to find all paths that can get to shiny gold,\n",
    "    # instead of check each node to see if it has a path to shiny-gold\n",
    "    all_paths = graph.get_all_simple_paths(target_color, mode=igraph.IN)\n",
    "    \n",
    "    outer_bags = set()\n",
    "    for path in all_paths:\n",
    "        for vert_id in path:\n",
    "            outer_bags.add(graph.vs[vert_id]['name'])\n",
    "    return outer_bags - {target_color}\n",
    "\n",
    "find_outer_bags(example_1, 'shiny gold')"
   ]
  },
  {
   "cell_type": "code",
   "execution_count": 65,
   "metadata": {},
   "outputs": [
    {
     "data": {
      "text/plain": [
       "32"
      ]
     },
     "execution_count": 65,
     "metadata": {},
     "output_type": "execute_result"
    }
   ],
   "source": [
    "def count_bags_needed(raw_rule_set, target):\n",
    "    def count_bags(graph, source):\n",
    "        count = 1\n",
    "        for edge in source.out_edges():        \n",
    "            count += edge['count'] * count_bags(graph, edge.target_vertex)\n",
    "        return count\n",
    "    graph = build_graph(raw_rule_set)\n",
    "    return count_bags(graph, graph.vs.find(name=target)) - 1\n",
    "count_bags_needed(example_1, 'shiny gold')"
   ]
  },
  {
   "cell_type": "code",
   "execution_count": 66,
   "metadata": {},
   "outputs": [
    {
     "data": {
      "text/plain": [
       "126"
      ]
     },
     "execution_count": 66,
     "metadata": {},
     "output_type": "execute_result"
    }
   ],
   "source": [
    "count_bags_needed(example_2, 'shiny gold')"
   ]
  },
  {
   "cell_type": "code",
   "execution_count": 67,
   "metadata": {},
   "outputs": [
    {
     "data": {
      "text/plain": [
       "8015"
      ]
     },
     "execution_count": 67,
     "metadata": {},
     "output_type": "execute_result"
    }
   ],
   "source": [
    "count_bags_needed(full, 'shiny gold')"
   ]
  },
  {
   "cell_type": "code",
   "execution_count": null,
   "metadata": {},
   "outputs": [],
   "source": []
  }
 ],
 "metadata": {
  "kernelspec": {
   "display_name": "jupyter-lab",
   "language": "python",
   "name": "jupyter-lab"
  },
  "language_info": {
   "codemirror_mode": {
    "name": "ipython",
    "version": 3
   },
   "file_extension": ".py",
   "mimetype": "text/x-python",
   "name": "python",
   "nbconvert_exporter": "python",
   "pygments_lexer": "ipython3",
   "version": "3.8.5"
  }
 },
 "nbformat": 4,
 "nbformat_minor": 4
}
