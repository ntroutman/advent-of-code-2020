{
 "cells": [
  {
   "cell_type": "code",
   "execution_count": 1,
   "metadata": {},
   "outputs": [],
   "source": [
    "%load_ext autoreload\n",
    "%autoreload 2\n",
    "import santas_helpers\n",
    "example_1, example_2, full = santas_helpers.get_input(day=1)"
   ]
  },
  {
   "cell_type": "code",
   "execution_count": 2,
   "metadata": {},
   "outputs": [],
   "source": [
    "numbers = [int(line) for line in full]"
   ]
  },
  {
   "cell_type": "code",
   "execution_count": 3,
   "metadata": {},
   "outputs": [
    {
     "data": {
      "text/plain": [
       "[2000, 50, 1984, 1600, 1736]"
      ]
     },
     "execution_count": 3,
     "metadata": {},
     "output_type": "execute_result"
    }
   ],
   "source": [
    "numbers[:5]"
   ]
  },
  {
   "cell_type": "code",
   "execution_count": 4,
   "metadata": {},
   "outputs": [
    {
     "name": "stdout",
     "output_type": "stream",
     "text": [
      "32 1988 63616\n"
     ]
    }
   ],
   "source": [
    "# find 2 numbers that sum to 2020 and multiply them ... dumb way\n",
    "for i in range(len(numbers)):\n",
    "    for j in range(i+1, len(numbers)):\n",
    "        if numbers[i] + numbers[j] == 2020:\n",
    "            print(numbers[i], numbers[j], numbers[i] * numbers[j])"
   ]
  },
  {
   "cell_type": "code",
   "execution_count": 21,
   "metadata": {},
   "outputs": [],
   "source": [
    "# lets get \"smart\" about this -- this really isn't smart as its still n^3\n",
    "from itertools import combinations\n",
    "import numpy as np\n",
    "def find_2020(num_elements):\n",
    "    for combination in combinations(numbers, num_elements):\n",
    "        if np.sum(combination) == 2020:\n",
    "            print(combination, np.product(combination))\n"
   ]
  },
  {
   "cell_type": "code",
   "execution_count": 18,
   "metadata": {},
   "outputs": [
    {
     "name": "stdout",
     "output_type": "stream",
     "text": [
      "(32, 1988) 63616\n"
     ]
    }
   ],
   "source": [
    "find_2020(2)"
   ]
  },
  {
   "cell_type": "code",
   "execution_count": 20,
   "metadata": {},
   "outputs": [
    {
     "name": "stdout",
     "output_type": "stream",
     "text": [
      "(72, 897, 1051) 67877784\n"
     ]
    }
   ],
   "source": [
    "find_2020(3)"
   ]
  },
  {
   "cell_type": "code",
   "execution_count": null,
   "metadata": {},
   "outputs": [],
   "source": []
  }
 ],
 "metadata": {
  "kernelspec": {
   "display_name": "Python 3",
   "language": "python",
   "name": "python3"
  },
  "language_info": {
   "codemirror_mode": {
    "name": "ipython",
    "version": 3
   },
   "file_extension": ".py",
   "mimetype": "text/x-python",
   "name": "python",
   "nbconvert_exporter": "python",
   "pygments_lexer": "ipython3",
   "version": "3.7.1"
  }
 },
 "nbformat": 4,
 "nbformat_minor": 4
}
