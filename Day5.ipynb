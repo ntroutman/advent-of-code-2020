{
 "cells": [
  {
   "cell_type": "code",
   "execution_count": 1,
   "metadata": {},
   "outputs": [],
   "source": [
    "%load_ext autoreload\n",
    "%autoreload 2\n",
    "import santas_helpers\n",
    "import numpy as np"
   ]
  },
  {
   "cell_type": "code",
   "execution_count": 2,
   "metadata": {},
   "outputs": [
    {
     "data": {
      "text/plain": [
       "['BFFFBBFRRR', 'FFFBBBFRRR', 'BBFFBBFRLL']"
      ]
     },
     "execution_count": 2,
     "metadata": {},
     "output_type": "execute_result"
    }
   ],
   "source": [
    "example_1, example_2, full = santas_helpers.get_input(day=5)\n",
    "example_1"
   ]
  },
  {
   "cell_type": "code",
   "execution_count": 29,
   "metadata": {},
   "outputs": [
    {
     "name": "stdout",
     "output_type": "stream",
     "text": [
      "14.0\n"
     ]
    },
    {
     "data": {
      "text/plain": [
       "357"
      ]
     },
     "execution_count": 29,
     "metadata": {},
     "output_type": "execute_result"
    }
   ],
   "source": [
    "def parition(splits, lower_indicator):\n",
    "    min = 0\n",
    "    max = 1 << len(splits)\n",
    "    for partition in splits:\n",
    "        if partition == lower_indicator:\n",
    "            max -= (max - min) / 2\n",
    "        else:\n",
    "            min += (max - min) / 2\n",
    "    assert min == max - 1, (min, max)\n",
    "    return min\n",
    "print(parition(\"FFFBBBF\", 'F'))\n",
    "\n",
    "def find_seat(boarding_pass):\n",
    "    row_id = boarding_pass[:7]\n",
    "    seat_id = boarding_pass[7:]\n",
    "    \n",
    "    \n",
    "    row = parition(row_id, 'F')\n",
    "    seat = parition(seat_id, 'L')\n",
    "    return int(row * 8 + seat)\n",
    "find_seat(\"FBFBBFFRLR\")"
   ]
  },
  {
   "cell_type": "code",
   "execution_count": 30,
   "metadata": {},
   "outputs": [
    {
     "data": {
      "text/plain": [
       "822"
      ]
     },
     "execution_count": 30,
     "metadata": {},
     "output_type": "execute_result"
    }
   ],
   "source": [
    "max(find_seat(boarding_pass) for boarding_pass in full)"
   ]
  },
  {
   "cell_type": "code",
   "execution_count": 32,
   "metadata": {},
   "outputs": [
    {
     "name": "stdout",
     "output_type": "stream",
     "text": [
      "705\n"
     ]
    }
   ],
   "source": [
    "seat_ids = {find_seat(boarding_pass) for boarding_pass in full}\n",
    "for maybe_seat in range(max(seat_ids)):\n",
    "    if (maybe_seat not in seat_ids\n",
    "        and maybe_seat - 1 in seat_ids\n",
    "        and maybe_seat + 1 in seat_ids):\n",
    "        print(maybe_seat)"
   ]
  },
  {
   "cell_type": "code",
   "execution_count": null,
   "metadata": {},
   "outputs": [],
   "source": []
  }
 ],
 "metadata": {
  "kernelspec": {
   "display_name": "Python 3",
   "language": "python",
   "name": "python3"
  },
  "language_info": {
   "codemirror_mode": {
    "name": "ipython",
    "version": 3
   },
   "file_extension": ".py",
   "mimetype": "text/x-python",
   "name": "python",
   "nbconvert_exporter": "python",
   "pygments_lexer": "ipython3",
   "version": "3.7.1"
  }
 },
 "nbformat": 4,
 "nbformat_minor": 4
}
